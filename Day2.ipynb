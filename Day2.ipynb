{
 "cells": [
  {
   "cell_type": "code",
   "execution_count": 60,
   "id": "e486e752-9a41-4e93-82fc-d709f4f8c87d",
   "metadata": {},
   "outputs": [],
   "source": [
    "import nltk \n",
    "from nltk.stem import PorterStemmer\n",
    "from nltk.stem import WordNetLemmatizer\n",
    "from nltk.corpus import stopwords\n",
    "from sklearn.feature_extraction.text import CountVectorizer\n",
    "import re\n",
    "import warnings\n",
    "warnings.filterwarnings(\"ignore\")"
   ]
  },
  {
   "cell_type": "code",
   "execution_count": 61,
   "id": "1e9c5a32-5169-45c5-b341-cab53c238156",
   "metadata": {},
   "outputs": [],
   "source": [
    "lemmet = WordNetLemmatizer()\n",
    "stem = PorterStemmer()"
   ]
  },
  {
   "cell_type": "code",
   "execution_count": 62,
   "id": "5c07674b-24c4-4dd5-b133-93db2de929f5",
   "metadata": {},
   "outputs": [],
   "source": [
    "paragraph = \"A subset of machine learning is closely related to computational statistics, which focuses on making predictions using computers, but not all machine learning is statistical learning. The study of mathematical optimization delivers methods, theory and application domains to the field of machine learning. Data mining is a related field of study, focusing on exploratory data analysis through unsupervised learning. Some implementations of machine learning use data and neural networks in a way that mimics the working of a biological brain. In its application across business problems, machine learning is also referred to as predictive analytics.\""
   ]
  },
  {
   "cell_type": "code",
   "execution_count": 63,
   "id": "f65c5598-79d4-4047-9fb7-41d043de2d08",
   "metadata": {},
   "outputs": [
    {
     "name": "stdout",
     "output_type": "stream",
     "text": [
      "A subset of machine learning is closely related to computational statistics, which focuses on making predictions using computers, but not all machine learning is statistical learning. The study of mathematical optimization delivers methods, theory and application domains to the field of machine learning. Data mining is a related field of study, focusing on exploratory data analysis through unsupervised learning. Some implementations of machine learning use data and neural networks in a way that mimics the working of a biological brain. In its application across business problems, machine learning is also referred to as predictive analytics.\n"
     ]
    }
   ],
   "source": [
    "print(paragraph)"
   ]
  },
  {
   "cell_type": "code",
   "execution_count": 64,
   "id": "c04a77ba-880b-460a-89eb-f0fa3fb3202a",
   "metadata": {},
   "outputs": [],
   "source": [
    "sentence = nltk.sent_tokenize(paragraph)"
   ]
  },
  {
   "cell_type": "code",
   "execution_count": 65,
   "id": "0f571137-95f2-424c-94cf-5214f2034c87",
   "metadata": {},
   "outputs": [
    {
     "name": "stdout",
     "output_type": "stream",
     "text": [
      "['A subset of machine learning is closely related to computational statistics, which focuses on making predictions using computers, but not all machine learning is statistical learning.', 'The study of mathematical optimization delivers methods, theory and application domains to the field of machine learning.', 'Data mining is a related field of study, focusing on exploratory data analysis through unsupervised learning.', 'Some implementations of machine learning use data and neural networks in a way that mimics the working of a biological brain.', 'In its application across business problems, machine learning is also referred to as predictive analytics.']\n"
     ]
    }
   ],
   "source": [
    "print(sentence)"
   ]
  },
  {
   "cell_type": "code",
   "execution_count": 66,
   "id": "ecd24173-2059-4716-8856-58cdc3b716e2",
   "metadata": {},
   "outputs": [],
   "source": [
    "#Lowering the paragraph\n",
    "corpus = []\n",
    "for i in range(len(sentence)):\n",
    "    review = re.sub(\"[^a-zA-Z]\",\" \",sentence[i])\n",
    "    review=review.lower()\n",
    "    corpus.append(review)"
   ]
  },
  {
   "cell_type": "code",
   "execution_count": 67,
   "id": "ef175609-5d4a-49e0-9d9f-f83ef1bd8128",
   "metadata": {},
   "outputs": [
    {
     "data": {
      "text/plain": [
       "['a subset of machine learning is closely related to computational statistics  which focuses on making predictions using computers  but not all machine learning is statistical learning ',\n",
       " 'the study of mathematical optimization delivers methods  theory and application domains to the field of machine learning ',\n",
       " 'data mining is a related field of study  focusing on exploratory data analysis through unsupervised learning ',\n",
       " 'some implementations of machine learning use data and neural networks in a way that mimics the working of a biological brain ',\n",
       " 'in its application across business problems  machine learning is also referred to as predictive analytics ']"
      ]
     },
     "execution_count": 67,
     "metadata": {},
     "output_type": "execute_result"
    }
   ],
   "source": [
    "corpus"
   ]
  },
  {
   "cell_type": "code",
   "execution_count": 68,
   "id": "466263d5-2621-482e-9e99-27be12c3648e",
   "metadata": {},
   "outputs": [
    {
     "name": "stdout",
     "output_type": "stream",
     "text": [
      "['a', 'subset', 'of', 'machine', 'learning', 'is', 'closely', 'related', 'to', 'computational', 'statistics', 'which', 'focuses', 'on', 'making', 'predictions', 'using', 'computers', 'but', 'not', 'all', 'machine', 'learning', 'is', 'statistical', 'learning']\n",
      "['the', 'study', 'of', 'mathematical', 'optimization', 'delivers', 'methods', 'theory', 'and', 'application', 'domains', 'to', 'the', 'field', 'of', 'machine', 'learning']\n",
      "['data', 'mining', 'is', 'a', 'related', 'field', 'of', 'study', 'focusing', 'on', 'exploratory', 'data', 'analysis', 'through', 'unsupervised', 'learning']\n",
      "['some', 'implementations', 'of', 'machine', 'learning', 'use', 'data', 'and', 'neural', 'networks', 'in', 'a', 'way', 'that', 'mimics', 'the', 'working', 'of', 'a', 'biological', 'brain']\n",
      "['in', 'its', 'application', 'across', 'business', 'problems', 'machine', 'learning', 'is', 'also', 'referred', 'to', 'as', 'predictive', 'analytics']\n"
     ]
    }
   ],
   "source": [
    "#Stemmetization\n",
    "for i in corpus:\n",
    "    words = nltk.word_tokenize(i)\n",
    "    print(words)"
   ]
  },
  {
   "cell_type": "code",
   "execution_count": 69,
   "id": "dc5d68dc-1ad2-4919-b19e-897dd1524191",
   "metadata": {},
   "outputs": [
    {
     "name": "stdout",
     "output_type": "stream",
     "text": [
      "subset\n",
      "machin\n",
      "learn\n",
      "close\n",
      "relat\n",
      "comput\n",
      "statist\n",
      "focus\n",
      "make\n",
      "predict\n",
      "use\n",
      "comput\n",
      "machin\n",
      "learn\n",
      "statist\n",
      "learn\n",
      "studi\n",
      "mathemat\n",
      "optim\n",
      "deliv\n",
      "method\n",
      "theori\n",
      "applic\n",
      "domain\n",
      "field\n",
      "machin\n",
      "learn\n",
      "data\n",
      "mine\n",
      "relat\n",
      "field\n",
      "studi\n",
      "focus\n",
      "exploratori\n",
      "data\n",
      "analysi\n",
      "unsupervis\n",
      "learn\n",
      "implement\n",
      "machin\n",
      "learn\n",
      "use\n",
      "data\n",
      "neural\n",
      "network\n",
      "way\n",
      "mimic\n",
      "work\n",
      "biolog\n",
      "brain\n",
      "applic\n",
      "across\n",
      "busi\n",
      "problem\n",
      "machin\n",
      "learn\n",
      "also\n",
      "refer\n",
      "predict\n",
      "analyt\n"
     ]
    }
   ],
   "source": [
    "#Stemmetization\n",
    "for i in corpus:\n",
    "    words = nltk.word_tokenize(i)\n",
    "    for word in words:\n",
    "        if word not in set(stopwords.words(\"english\")):\n",
    "            print(stem.stem(word))"
   ]
  },
  {
   "cell_type": "code",
   "execution_count": 70,
   "id": "e8902640-9adb-450d-a81f-058967c22bac",
   "metadata": {},
   "outputs": [
    {
     "name": "stdout",
     "output_type": "stream",
     "text": [
      "subset\n",
      "machine\n",
      "learning\n",
      "closely\n",
      "related\n",
      "computational\n",
      "statistic\n",
      "focus\n",
      "making\n",
      "prediction\n",
      "using\n",
      "computer\n",
      "machine\n",
      "learning\n",
      "statistical\n",
      "learning\n",
      "study\n",
      "mathematical\n",
      "optimization\n",
      "delivers\n",
      "method\n",
      "theory\n",
      "application\n",
      "domain\n",
      "field\n",
      "machine\n",
      "learning\n",
      "data\n",
      "mining\n",
      "related\n",
      "field\n",
      "study\n",
      "focusing\n",
      "exploratory\n",
      "data\n",
      "analysis\n",
      "unsupervised\n",
      "learning\n",
      "implementation\n",
      "machine\n",
      "learning\n",
      "use\n",
      "data\n",
      "neural\n",
      "network\n",
      "way\n",
      "mimic\n",
      "working\n",
      "biological\n",
      "brain\n",
      "application\n",
      "across\n",
      "business\n",
      "problem\n",
      "machine\n",
      "learning\n",
      "also\n",
      "referred\n",
      "predictive\n",
      "analytics\n"
     ]
    }
   ],
   "source": [
    "for i in corpus:\n",
    "    words = nltk.word_tokenize(i)\n",
    "    for word in words:\n",
    "        if word not in set(stopwords.words(\"english\")):\n",
    "            print(lemmet.lemmatize(word))"
   ]
  },
  {
   "cell_type": "code",
   "execution_count": 84,
   "id": "b5c2ae2b-2815-4b20-901a-37835046e6f5",
   "metadata": {},
   "outputs": [],
   "source": [
    "#applying stopwords and lemmatization\n",
    "corpus = []\n",
    "for i in range(len(sentence)):\n",
    "    review = re.sub(\"[^a-zA-Z]\",\" \",sentence[i])\n",
    "    review.lower()\n",
    "    review.split()\n",
    "    review=[lemmet.lemmatize(word) for word in words if word not in set(stopwords.words(\"english\"))]\n",
    "    review = \" \".join(review)\n",
    "    corpus.append(review)"
   ]
  },
  {
   "cell_type": "code",
   "execution_count": 85,
   "id": "16c52de1-5079-4b53-8692-e705a2714a67",
   "metadata": {},
   "outputs": [
    {
     "name": "stdout",
     "output_type": "stream",
     "text": [
      "['application across business problem machine learning also referred predictive analytics', 'application across business problem machine learning also referred predictive analytics', 'application across business problem machine learning also referred predictive analytics', 'application across business problem machine learning also referred predictive analytics', 'application across business problem machine learning also referred predictive analytics']\n"
     ]
    }
   ],
   "source": [
    "print(corpus)"
   ]
  },
  {
   "cell_type": "markdown",
   "id": "909abe48-d1a0-48cb-a2af-eceed80b3113",
   "metadata": {},
   "source": [
    "#### BAG OF WORD (BOW)"
   ]
  },
  {
   "cell_type": "code",
   "execution_count": 86,
   "id": "d8141487-06b4-432e-8a53-b12ff88e771b",
   "metadata": {},
   "outputs": [],
   "source": [
    "cv = CountVectorizer(binary=True,ngram_range=(2,3))"
   ]
  },
  {
   "cell_type": "code",
   "execution_count": 87,
   "id": "46d7c64c-6c7d-4e62-bb24-159aaba5ee98",
   "metadata": {},
   "outputs": [],
   "source": [
    "y =cv.fit_transform(corpus)"
   ]
  },
  {
   "cell_type": "code",
   "execution_count": 88,
   "id": "8b302fd4-0433-463c-8de2-6ddaf76e90b8",
   "metadata": {},
   "outputs": [
    {
     "data": {
      "text/plain": [
       "{'application across': 4,\n",
       " 'across business': 0,\n",
       " 'business problem': 6,\n",
       " 'problem machine': 13,\n",
       " 'machine learning': 10,\n",
       " 'learning also': 8,\n",
       " 'also referred': 2,\n",
       " 'referred predictive': 15,\n",
       " 'predictive analytics': 12,\n",
       " 'application across business': 5,\n",
       " 'across business problem': 1,\n",
       " 'business problem machine': 7,\n",
       " 'problem machine learning': 14,\n",
       " 'machine learning also': 11,\n",
       " 'learning also referred': 9,\n",
       " 'also referred predictive': 3,\n",
       " 'referred predictive analytics': 16}"
      ]
     },
     "execution_count": 88,
     "metadata": {},
     "output_type": "execute_result"
    }
   ],
   "source": [
    "cv.vocabulary_"
   ]
  },
  {
   "cell_type": "code",
   "execution_count": 89,
   "id": "fe50e34c-fbd3-4f63-9fed-c05601238e05",
   "metadata": {},
   "outputs": [
    {
     "data": {
      "text/plain": [
       "'application across business problem machine learning also referred predictive analytics'"
      ]
     },
     "execution_count": 89,
     "metadata": {},
     "output_type": "execute_result"
    }
   ],
   "source": [
    "corpus[0]"
   ]
  },
  {
   "cell_type": "code",
   "execution_count": 91,
   "id": "10af60b7-63bc-476e-a25d-fd689079229f",
   "metadata": {},
   "outputs": [
    {
     "data": {
      "text/plain": [
       "array([[1, 1, 1, 1, 1, 1, 1, 1, 1, 1, 1, 1, 1, 1, 1, 1, 1]], dtype=int64)"
      ]
     },
     "execution_count": 91,
     "metadata": {},
     "output_type": "execute_result"
    }
   ],
   "source": [
    "y[0].toarray()"
   ]
  },
  {
   "cell_type": "code",
   "execution_count": 92,
   "id": "35e4db2f-6d33-4dbf-a951-d5d1f703d16d",
   "metadata": {},
   "outputs": [],
   "source": [
    "#Term Frequency Inverse Document Frequency (TF-IDF)\n",
    "from sklearn.feature_extraction.text import TfidfVectorizer"
   ]
  },
  {
   "cell_type": "code",
   "execution_count": 93,
   "id": "4b9a358e-853e-49a4-8065-7475bcb71389",
   "metadata": {},
   "outputs": [],
   "source": [
    "cv = TfidfVectorizer(ngram_range=(1,1),max_features=10)"
   ]
  },
  {
   "cell_type": "code",
   "execution_count": 94,
   "id": "cadd2582-5117-488d-992b-f7f328f24e5e",
   "metadata": {},
   "outputs": [],
   "source": [
    "X = cv.fit_transform(corpus)"
   ]
  },
  {
   "cell_type": "code",
   "execution_count": 95,
   "id": "ce2833f4-96da-46cf-89dc-0522be0c0991",
   "metadata": {},
   "outputs": [
    {
     "data": {
      "text/plain": [
       "{'application': 3,\n",
       " 'across': 0,\n",
       " 'business': 4,\n",
       " 'problem': 8,\n",
       " 'machine': 6,\n",
       " 'learning': 5,\n",
       " 'also': 1,\n",
       " 'referred': 9,\n",
       " 'predictive': 7,\n",
       " 'analytics': 2}"
      ]
     },
     "execution_count": 95,
     "metadata": {},
     "output_type": "execute_result"
    }
   ],
   "source": [
    "cv.vocabulary_"
   ]
  },
  {
   "cell_type": "code",
   "execution_count": 96,
   "id": "c01bf576-4984-4887-a6e6-0f65ae1790a7",
   "metadata": {},
   "outputs": [
    {
     "data": {
      "text/plain": [
       "'application across business problem machine learning also referred predictive analytics'"
      ]
     },
     "execution_count": 96,
     "metadata": {},
     "output_type": "execute_result"
    }
   ],
   "source": [
    "corpus[0]"
   ]
  },
  {
   "cell_type": "code",
   "execution_count": 97,
   "id": "48916994-961a-461c-ac20-5fe9f3d8b210",
   "metadata": {},
   "outputs": [
    {
     "data": {
      "text/plain": [
       "array([[0.31622777, 0.31622777, 0.31622777, 0.31622777, 0.31622777,\n",
       "        0.31622777, 0.31622777, 0.31622777, 0.31622777, 0.31622777]])"
      ]
     },
     "execution_count": 97,
     "metadata": {},
     "output_type": "execute_result"
    }
   ],
   "source": [
    "X[0].toarray()"
   ]
  },
  {
   "cell_type": "code",
   "execution_count": null,
   "id": "f57b02c4-07a7-444e-a6d1-97862b80b1be",
   "metadata": {},
   "outputs": [],
   "source": []
  }
 ],
 "metadata": {
  "kernelspec": {
   "display_name": "Python 3 (ipykernel)",
   "language": "python",
   "name": "python3"
  },
  "language_info": {
   "codemirror_mode": {
    "name": "ipython",
    "version": 3
   },
   "file_extension": ".py",
   "mimetype": "text/x-python",
   "name": "python",
   "nbconvert_exporter": "python",
   "pygments_lexer": "ipython3",
   "version": "3.9.7"
  }
 },
 "nbformat": 4,
 "nbformat_minor": 5
}
