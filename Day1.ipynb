{
 "cells": [
  {
   "cell_type": "code",
   "execution_count": 46,
   "id": "185a4d83-4521-4d62-b2b4-e9ee4935bffc",
   "metadata": {},
   "outputs": [],
   "source": [
    "import nltk\n",
    "from nltk.stem import PorterStemmer\n",
    "from nltk.corpus import stopwords\n",
    "from nltk.stem import WordNetLemmatizer"
   ]
  },
  {
   "cell_type": "code",
   "execution_count": 47,
   "id": "366e9326-1dea-4d83-bcff-c7d6da65915e",
   "metadata": {},
   "outputs": [],
   "source": [
    "paragraph =\"Machine learning is a field of inquiry devoted to understanding and building methods that 'learn', that is, methods that leverage data to improve performance on some set of tasks. It is seen as a part of artificial intelligence. Machine learning algorithms build a model based on sample data, known as training data, in order to make predictions or decisions without being explicitly programmed to do so. Machine learning algorithms are used in a wide variety of applications, such as in medicine, email filtering, speech recognition, and computer vision, where it is difficult or unfeasible to develop conventional algorithms to perform the needed tasks.\""
   ]
  },
  {
   "cell_type": "code",
   "execution_count": 48,
   "id": "c0f4b983-0588-45d0-8297-a12b9a9577f9",
   "metadata": {},
   "outputs": [
    {
     "name": "stdout",
     "output_type": "stream",
     "text": [
      "Machine learning is a field of inquiry devoted to understanding and building methods that 'learn', that is, methods that leverage data to improve performance on some set of tasks. It is seen as a part of artificial intelligence. Machine learning algorithms build a model based on sample data, known as training data, in order to make predictions or decisions without being explicitly programmed to do so. Machine learning algorithms are used in a wide variety of applications, such as in medicine, email filtering, speech recognition, and computer vision, where it is difficult or unfeasible to develop conventional algorithms to perform the needed tasks.\n"
     ]
    }
   ],
   "source": [
    "print(paragraph)"
   ]
  },
  {
   "cell_type": "code",
   "execution_count": 49,
   "id": "be330c96-10bc-48c4-8e60-68e3c9f46bd3",
   "metadata": {},
   "outputs": [],
   "source": [
    "sentence = nltk.sent_tokenize(paragraph)"
   ]
  },
  {
   "cell_type": "code",
   "execution_count": 50,
   "id": "7fbd76ab-81f6-4dc9-9fec-56fbeb77f23c",
   "metadata": {},
   "outputs": [
    {
     "name": "stdout",
     "output_type": "stream",
     "text": [
      "[\"Machine learning is a field of inquiry devoted to understanding and building methods that 'learn', that is, methods that leverage data to improve performance on some set of tasks.\", 'It is seen as a part of artificial intelligence.', 'Machine learning algorithms build a model based on sample data, known as training data, in order to make predictions or decisions without being explicitly programmed to do so.', 'Machine learning algorithms are used in a wide variety of applications, such as in medicine, email filtering, speech recognition, and computer vision, where it is difficult or unfeasible to develop conventional algorithms to perform the needed tasks.']\n"
     ]
    }
   ],
   "source": [
    "print(sentence)"
   ]
  },
  {
   "cell_type": "code",
   "execution_count": 51,
   "id": "a5dea533-58d7-4d19-9981-3b43db9dbbb5",
   "metadata": {},
   "outputs": [],
   "source": [
    "stemmer = PorterStemmer()"
   ]
  },
  {
   "cell_type": "code",
   "execution_count": 52,
   "id": "1dc1b128-241a-44fe-9274-4e6af86e9c3f",
   "metadata": {},
   "outputs": [
    {
     "data": {
      "text/plain": [
       "'unit'"
      ]
     },
     "execution_count": 52,
     "metadata": {},
     "output_type": "execute_result"
    }
   ],
   "source": [
    "stemmer.stem(\"united\")"
   ]
  },
  {
   "cell_type": "markdown",
   "id": "2a8abe84-40fc-43d8-83e9-043213eb63f9",
   "metadata": {},
   "source": [
    "###### The initial meaning of the word is loss"
   ]
  },
  {
   "cell_type": "code",
   "execution_count": 53,
   "id": "0e53fff9-ee31-449d-b5c0-64c6ba3d481f",
   "metadata": {},
   "outputs": [],
   "source": [
    "#Let's try lemmitizer using the same word to see the diffence\n",
    "lemmet = WordNetLemmatizer()"
   ]
  },
  {
   "cell_type": "code",
   "execution_count": 54,
   "id": "73e10886-6630-4890-8c89-95dfe5488ad2",
   "metadata": {},
   "outputs": [
    {
     "data": {
      "text/plain": [
       "'united'"
      ]
     },
     "execution_count": 54,
     "metadata": {},
     "output_type": "execute_result"
    }
   ],
   "source": [
    "lemmet.lemmatize(\"united\")"
   ]
  },
  {
   "cell_type": "markdown",
   "id": "e5be92f4-3ca0-4b22-b2c5-6369da5d75bf",
   "metadata": {},
   "source": [
    "###### The meaning of the word is captured"
   ]
  },
  {
   "cell_type": "code",
   "execution_count": 55,
   "id": "45038b61-5920-4362-a810-7e35bea6987c",
   "metadata": {},
   "outputs": [
    {
     "data": {
      "text/plain": [
       "4"
      ]
     },
     "execution_count": 55,
     "metadata": {},
     "output_type": "execute_result"
    }
   ],
   "source": [
    "len(sentence)"
   ]
  },
  {
   "cell_type": "code",
   "execution_count": 56,
   "id": "056303b1-8955-4be1-aeef-7da3ad0fe9f1",
   "metadata": {},
   "outputs": [],
   "source": [
    "import re"
   ]
  },
  {
   "cell_type": "code",
   "execution_count": 57,
   "id": "04b402b7-21a9-4acb-8105-08a26bc45f27",
   "metadata": {},
   "outputs": [],
   "source": [
    "corpus = []\n",
    "for i in range(len(sentence)):\n",
    "    review = re.sub(\"[^a-zA-Z]\",\" \",sentence[i])\n",
    "    review = review.lower()\n",
    "    corpus.append(review)\n",
    "    "
   ]
  },
  {
   "cell_type": "code",
   "execution_count": 58,
   "id": "d5833890-68cc-4a4d-9c75-97ec78965815",
   "metadata": {},
   "outputs": [
    {
     "data": {
      "text/plain": [
       "['machine learning is a field of inquiry devoted to understanding and building methods that  learn   that is  methods that leverage data to improve performance on some set of tasks ',\n",
       " 'it is seen as a part of artificial intelligence ',\n",
       " 'machine learning algorithms build a model based on sample data  known as training data  in order to make predictions or decisions without being explicitly programmed to do so ',\n",
       " 'machine learning algorithms are used in a wide variety of applications  such as in medicine  email filtering  speech recognition  and computer vision  where it is difficult or unfeasible to develop conventional algorithms to perform the needed tasks ']"
      ]
     },
     "execution_count": 58,
     "metadata": {},
     "output_type": "execute_result"
    }
   ],
   "source": [
    "corpus"
   ]
  },
  {
   "cell_type": "code",
   "execution_count": 59,
   "id": "8d99e861-a613-4e3c-8a8f-8e6fe92110c3",
   "metadata": {},
   "outputs": [
    {
     "data": {
      "text/plain": [
       "['i',\n",
       " 'me',\n",
       " 'my',\n",
       " 'myself',\n",
       " 'we',\n",
       " 'our',\n",
       " 'ours',\n",
       " 'ourselves',\n",
       " 'you',\n",
       " \"you're\",\n",
       " \"you've\",\n",
       " \"you'll\",\n",
       " \"you'd\",\n",
       " 'your',\n",
       " 'yours',\n",
       " 'yourself',\n",
       " 'yourselves',\n",
       " 'he',\n",
       " 'him',\n",
       " 'his',\n",
       " 'himself',\n",
       " 'she',\n",
       " \"she's\",\n",
       " 'her',\n",
       " 'hers',\n",
       " 'herself',\n",
       " 'it',\n",
       " \"it's\",\n",
       " 'its',\n",
       " 'itself',\n",
       " 'they',\n",
       " 'them',\n",
       " 'their',\n",
       " 'theirs',\n",
       " 'themselves',\n",
       " 'what',\n",
       " 'which',\n",
       " 'who',\n",
       " 'whom',\n",
       " 'this',\n",
       " 'that',\n",
       " \"that'll\",\n",
       " 'these',\n",
       " 'those',\n",
       " 'am',\n",
       " 'is',\n",
       " 'are',\n",
       " 'was',\n",
       " 'were',\n",
       " 'be',\n",
       " 'been',\n",
       " 'being',\n",
       " 'have',\n",
       " 'has',\n",
       " 'had',\n",
       " 'having',\n",
       " 'do',\n",
       " 'does',\n",
       " 'did',\n",
       " 'doing',\n",
       " 'a',\n",
       " 'an',\n",
       " 'the',\n",
       " 'and',\n",
       " 'but',\n",
       " 'if',\n",
       " 'or',\n",
       " 'because',\n",
       " 'as',\n",
       " 'until',\n",
       " 'while',\n",
       " 'of',\n",
       " 'at',\n",
       " 'by',\n",
       " 'for',\n",
       " 'with',\n",
       " 'about',\n",
       " 'against',\n",
       " 'between',\n",
       " 'into',\n",
       " 'through',\n",
       " 'during',\n",
       " 'before',\n",
       " 'after',\n",
       " 'above',\n",
       " 'below',\n",
       " 'to',\n",
       " 'from',\n",
       " 'up',\n",
       " 'down',\n",
       " 'in',\n",
       " 'out',\n",
       " 'on',\n",
       " 'off',\n",
       " 'over',\n",
       " 'under',\n",
       " 'again',\n",
       " 'further',\n",
       " 'then',\n",
       " 'once',\n",
       " 'here',\n",
       " 'there',\n",
       " 'when',\n",
       " 'where',\n",
       " 'why',\n",
       " 'how',\n",
       " 'all',\n",
       " 'any',\n",
       " 'both',\n",
       " 'each',\n",
       " 'few',\n",
       " 'more',\n",
       " 'most',\n",
       " 'other',\n",
       " 'some',\n",
       " 'such',\n",
       " 'no',\n",
       " 'nor',\n",
       " 'not',\n",
       " 'only',\n",
       " 'own',\n",
       " 'same',\n",
       " 'so',\n",
       " 'than',\n",
       " 'too',\n",
       " 'very',\n",
       " 's',\n",
       " 't',\n",
       " 'can',\n",
       " 'will',\n",
       " 'just',\n",
       " 'don',\n",
       " \"don't\",\n",
       " 'should',\n",
       " \"should've\",\n",
       " 'now',\n",
       " 'd',\n",
       " 'll',\n",
       " 'm',\n",
       " 'o',\n",
       " 're',\n",
       " 've',\n",
       " 'y',\n",
       " 'ain',\n",
       " 'aren',\n",
       " \"aren't\",\n",
       " 'couldn',\n",
       " \"couldn't\",\n",
       " 'didn',\n",
       " \"didn't\",\n",
       " 'doesn',\n",
       " \"doesn't\",\n",
       " 'hadn',\n",
       " \"hadn't\",\n",
       " 'hasn',\n",
       " \"hasn't\",\n",
       " 'haven',\n",
       " \"haven't\",\n",
       " 'isn',\n",
       " \"isn't\",\n",
       " 'ma',\n",
       " 'mightn',\n",
       " \"mightn't\",\n",
       " 'mustn',\n",
       " \"mustn't\",\n",
       " 'needn',\n",
       " \"needn't\",\n",
       " 'shan',\n",
       " \"shan't\",\n",
       " 'shouldn',\n",
       " \"shouldn't\",\n",
       " 'wasn',\n",
       " \"wasn't\",\n",
       " 'weren',\n",
       " \"weren't\",\n",
       " 'won',\n",
       " \"won't\",\n",
       " 'wouldn',\n",
       " \"wouldn't\"]"
      ]
     },
     "execution_count": 59,
     "metadata": {},
     "output_type": "execute_result"
    }
   ],
   "source": [
    "stopwords.words(\"english\")"
   ]
  },
  {
   "cell_type": "code",
   "execution_count": 60,
   "id": "2b2b5b44-4abc-4e14-a302-3076e4a0093e",
   "metadata": {},
   "outputs": [
    {
     "name": "stdout",
     "output_type": "stream",
     "text": [
      "['machine', 'learning', 'is', 'a', 'field', 'of', 'inquiry', 'devoted', 'to', 'understanding', 'and', 'building', 'methods', 'that', 'learn', 'that', 'is', 'methods', 'that', 'leverage', 'data', 'to', 'improve', 'performance', 'on', 'some', 'set', 'of', 'tasks']\n",
      "['it', 'is', 'seen', 'as', 'a', 'part', 'of', 'artificial', 'intelligence']\n",
      "['machine', 'learning', 'algorithms', 'build', 'a', 'model', 'based', 'on', 'sample', 'data', 'known', 'as', 'training', 'data', 'in', 'order', 'to', 'make', 'predictions', 'or', 'decisions', 'without', 'being', 'explicitly', 'programmed', 'to', 'do', 'so']\n",
      "['machine', 'learning', 'algorithms', 'are', 'used', 'in', 'a', 'wide', 'variety', 'of', 'applications', 'such', 'as', 'in', 'medicine', 'email', 'filtering', 'speech', 'recognition', 'and', 'computer', 'vision', 'where', 'it', 'is', 'difficult', 'or', 'unfeasible', 'to', 'develop', 'conventional', 'algorithms', 'to', 'perform', 'the', 'needed', 'tasks']\n"
     ]
    }
   ],
   "source": [
    "for i in corpus:\n",
    "    words = nltk.word_tokenize(i)\n",
    "    print(words)\n",
    "            "
   ]
  },
  {
   "cell_type": "code",
   "execution_count": 61,
   "id": "c2683fc8-02f8-4b32-aded-d9da4abec3de",
   "metadata": {},
   "outputs": [
    {
     "name": "stdout",
     "output_type": "stream",
     "text": [
      "machin\n",
      "learn\n",
      "field\n",
      "inquiri\n",
      "devot\n",
      "understand\n",
      "build\n",
      "method\n",
      "learn\n",
      "method\n",
      "leverag\n",
      "data\n",
      "improv\n",
      "perform\n",
      "set\n",
      "task\n",
      "seen\n",
      "part\n",
      "artifici\n",
      "intellig\n",
      "machin\n",
      "learn\n",
      "algorithm\n",
      "build\n",
      "model\n",
      "base\n",
      "sampl\n",
      "data\n",
      "known\n",
      "train\n",
      "data\n",
      "order\n",
      "make\n",
      "predict\n",
      "decis\n",
      "without\n",
      "explicitli\n",
      "program\n",
      "machin\n",
      "learn\n",
      "algorithm\n",
      "use\n",
      "wide\n",
      "varieti\n",
      "applic\n",
      "medicin\n",
      "email\n",
      "filter\n",
      "speech\n",
      "recognit\n",
      "comput\n",
      "vision\n",
      "difficult\n",
      "unfeas\n",
      "develop\n",
      "convent\n",
      "algorithm\n",
      "perform\n",
      "need\n",
      "task\n"
     ]
    }
   ],
   "source": [
    "#Stemming:- The Original Meaning of the words is loss\n",
    "for i in corpus:\n",
    "    words = nltk.word_tokenize(i)\n",
    "    for word in words:\n",
    "        if word not in set(stopwords.words(\"english\")):\n",
    "            print(stemmer.stem(word))"
   ]
  },
  {
   "cell_type": "code",
   "execution_count": 63,
   "id": "3aa75be2-3102-4442-b62f-9eff0c027f07",
   "metadata": {},
   "outputs": [
    {
     "name": "stdout",
     "output_type": "stream",
     "text": [
      "machine\n",
      "learning\n",
      "field\n",
      "inquiry\n",
      "devoted\n",
      "understanding\n",
      "building\n",
      "method\n",
      "learn\n",
      "method\n",
      "leverage\n",
      "data\n",
      "improve\n",
      "performance\n",
      "set\n",
      "task\n",
      "seen\n",
      "part\n",
      "artificial\n",
      "intelligence\n",
      "machine\n",
      "learning\n",
      "algorithm\n",
      "build\n",
      "model\n",
      "based\n",
      "sample\n",
      "data\n",
      "known\n",
      "training\n",
      "data\n",
      "order\n",
      "make\n",
      "prediction\n",
      "decision\n",
      "without\n",
      "explicitly\n",
      "programmed\n",
      "machine\n",
      "learning\n",
      "algorithm\n",
      "used\n",
      "wide\n",
      "variety\n",
      "application\n",
      "medicine\n",
      "email\n",
      "filtering\n",
      "speech\n",
      "recognition\n",
      "computer\n",
      "vision\n",
      "difficult\n",
      "unfeasible\n",
      "develop\n",
      "conventional\n",
      "algorithm\n",
      "perform\n",
      "needed\n",
      "task\n"
     ]
    }
   ],
   "source": [
    "#Lemmatization:- The initial meaning of the world is captured lemmatization contain dictionary of words\n",
    "for j in corpus:\n",
    "    words = nltk.word_tokenize(j)\n",
    "    for word in words:\n",
    "        if word not in set(stopwords.words(\"english\")):\n",
    "            print(lemmet.lemmatize(word))                                        "
   ]
  },
  {
   "cell_type": "code",
   "execution_count": 69,
   "id": "b20e0b0d-b15d-409b-beda-b656f37bfd85",
   "metadata": {},
   "outputs": [],
   "source": [
    "#applying stopwords and lemmatization\n",
    "corpus = []\n",
    "for i in range(len(sentence)):\n",
    "    review = re.sub(\"[^a-zA-Z]\",\" \",sentence[i])\n",
    "    review.lower()\n",
    "    review.split()\n",
    "    review=[lemmet.lemmatize(word) for word in words if word not in set(stopwords.words(\"english\"))]\n",
    "    review = \" \".join(review)\n",
    "    corpus.append(review)"
   ]
  },
  {
   "cell_type": "code",
   "execution_count": 70,
   "id": "fc41f30e-d53a-4f96-a6fe-853eaa8b22ac",
   "metadata": {},
   "outputs": [
    {
     "data": {
      "text/plain": [
       "['machine learning algorithm used wide variety application medicine email filtering speech recognition computer vision difficult unfeasible develop conventional algorithm perform needed task',\n",
       " 'machine learning algorithm used wide variety application medicine email filtering speech recognition computer vision difficult unfeasible develop conventional algorithm perform needed task',\n",
       " 'machine learning algorithm used wide variety application medicine email filtering speech recognition computer vision difficult unfeasible develop conventional algorithm perform needed task',\n",
       " 'machine learning algorithm used wide variety application medicine email filtering speech recognition computer vision difficult unfeasible develop conventional algorithm perform needed task']"
      ]
     },
     "execution_count": 70,
     "metadata": {},
     "output_type": "execute_result"
    }
   ],
   "source": [
    "corpus"
   ]
  },
  {
   "cell_type": "code",
   "execution_count": 71,
   "id": "3fff97db-dcca-4822-bf3e-40eee33bc905",
   "metadata": {},
   "outputs": [],
   "source": [
    "from sklearn.feature_extraction.text import CountVectorizer"
   ]
  },
  {
   "cell_type": "code",
   "execution_count": 82,
   "id": "d5866c98-149e-4818-b10f-501aea4c33dc",
   "metadata": {},
   "outputs": [],
   "source": [
    "cv = CountVectorizer(binary=True)"
   ]
  },
  {
   "cell_type": "code",
   "execution_count": 83,
   "id": "6d663f56-72c8-4420-846f-b9239578f061",
   "metadata": {},
   "outputs": [],
   "source": [
    "X = cv.fit_transform(corpus)"
   ]
  },
  {
   "cell_type": "code",
   "execution_count": 84,
   "id": "7b38d355-47ca-4c51-9852-67b8ad8277da",
   "metadata": {},
   "outputs": [
    {
     "data": {
      "text/plain": [
       "{'machine': 9,\n",
       " 'learning': 8,\n",
       " 'algorithm': 0,\n",
       " 'used': 17,\n",
       " 'wide': 20,\n",
       " 'variety': 18,\n",
       " 'application': 1,\n",
       " 'medicine': 10,\n",
       " 'email': 6,\n",
       " 'filtering': 7,\n",
       " 'speech': 14,\n",
       " 'recognition': 13,\n",
       " 'computer': 2,\n",
       " 'vision': 19,\n",
       " 'difficult': 5,\n",
       " 'unfeasible': 16,\n",
       " 'develop': 4,\n",
       " 'conventional': 3,\n",
       " 'perform': 12,\n",
       " 'needed': 11,\n",
       " 'task': 15}"
      ]
     },
     "execution_count": 84,
     "metadata": {},
     "output_type": "execute_result"
    }
   ],
   "source": [
    "cv.vocabulary_"
   ]
  },
  {
   "cell_type": "code",
   "execution_count": 85,
   "id": "940b00a1-d1f9-45f9-8111-9952a25bc175",
   "metadata": {},
   "outputs": [
    {
     "data": {
      "text/plain": [
       "'machine learning algorithm used wide variety application medicine email filtering speech recognition computer vision difficult unfeasible develop conventional algorithm perform needed task'"
      ]
     },
     "execution_count": 85,
     "metadata": {},
     "output_type": "execute_result"
    }
   ],
   "source": [
    "corpus[0]"
   ]
  },
  {
   "cell_type": "code",
   "execution_count": 86,
   "id": "afb73c69-8ac0-4191-8291-337dca8dff8c",
   "metadata": {},
   "outputs": [
    {
     "data": {
      "text/plain": [
       "array([[1, 1, 1, 1, 1, 1, 1, 1, 1, 1, 1, 1, 1, 1, 1, 1, 1, 1, 1, 1, 1]],\n",
       "      dtype=int64)"
      ]
     },
     "execution_count": 86,
     "metadata": {},
     "output_type": "execute_result"
    }
   ],
   "source": [
    "X[0].toarray()"
   ]
  },
  {
   "cell_type": "code",
   "execution_count": 87,
   "id": "3c1d5832-79c8-4075-ad04-26ade6a6a226",
   "metadata": {},
   "outputs": [
    {
     "data": {
      "text/plain": [
       "array([[1, 1, 1, 1, 1, 1, 1, 1, 1, 1, 1, 1, 1, 1, 1, 1, 1, 1, 1, 1, 1]],\n",
       "      dtype=int64)"
      ]
     },
     "execution_count": 87,
     "metadata": {},
     "output_type": "execute_result"
    }
   ],
   "source": [
    "X[1].toarray()"
   ]
  },
  {
   "cell_type": "code",
   "execution_count": null,
   "id": "979449e3-614e-4916-9ac3-2cecef0a0679",
   "metadata": {},
   "outputs": [],
   "source": []
  }
 ],
 "metadata": {
  "kernelspec": {
   "display_name": "Python 3 (ipykernel)",
   "language": "python",
   "name": "python3"
  },
  "language_info": {
   "codemirror_mode": {
    "name": "ipython",
    "version": 3
   },
   "file_extension": ".py",
   "mimetype": "text/x-python",
   "name": "python",
   "nbconvert_exporter": "python",
   "pygments_lexer": "ipython3",
   "version": "3.9.7"
  }
 },
 "nbformat": 4,
 "nbformat_minor": 5
}
